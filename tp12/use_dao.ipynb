{
 "cells": [
  {
   "cell_type": "code",
   "execution_count": 149,
   "metadata": {},
   "outputs": [],
   "source": [
    "from UserDAO import UserDAO"
   ]
  },
  {
   "cell_type": "code",
   "execution_count": 150,
   "metadata": {},
   "outputs": [],
   "source": [
    "a=2"
   ]
  },
  {
   "cell_type": "code",
   "execution_count": 151,
   "metadata": {},
   "outputs": [
    {
     "data": {
      "text/plain": [
       "2"
      ]
     },
     "execution_count": 151,
     "metadata": {},
     "output_type": "execute_result"
    }
   ],
   "source": [
    "a"
   ]
  },
  {
   "cell_type": "code",
   "execution_count": 152,
   "metadata": {},
   "outputs": [
    {
     "name": "stdout",
     "output_type": "stream",
     "text": [
      "def __del__(self)\n"
     ]
    }
   ],
   "source": [
    "dao = UserDAO(\"./formation.db\")\n",
    "# list(dao.findAll())"
   ]
  },
  {
   "cell_type": "code",
   "execution_count": 153,
   "metadata": {},
   "outputs": [],
   "source": [
    "# ! pip install numpy pandas"
   ]
  },
  {
   "cell_type": "code",
   "execution_count": 154,
   "metadata": {},
   "outputs": [],
   "source": [
    "import numpy as np\n",
    "x = np.arange(15, dtype=np.int64)\n"
   ]
  },
  {
   "cell_type": "code",
   "execution_count": 155,
   "metadata": {},
   "outputs": [
    {
     "data": {
      "text/plain": [
       "array([ 0,  1,  2,  3,  4,  5,  6,  7,  8,  9, 10, 11, 12, 13, 14])"
      ]
     },
     "execution_count": 155,
     "metadata": {},
     "output_type": "execute_result"
    }
   ],
   "source": [
    "x"
   ]
  },
  {
   "cell_type": "code",
   "execution_count": 156,
   "metadata": {},
   "outputs": [
    {
     "data": {
      "text/plain": [
       "array([[ 0,  1,  2,  3,  4],\n",
       "       [ 5,  6,  7,  8,  9],\n",
       "       [10, 11, 12, 13, 14]])"
      ]
     },
     "execution_count": 156,
     "metadata": {},
     "output_type": "execute_result"
    }
   ],
   "source": [
    "x.reshape(3, 5)"
   ]
  },
  {
   "cell_type": "code",
   "execution_count": 157,
   "metadata": {},
   "outputs": [
    {
     "data": {
      "text/plain": [
       "array([ 4,  9, 14])"
      ]
     },
     "execution_count": 157,
     "metadata": {},
     "output_type": "execute_result"
    }
   ],
   "source": [
    "x.reshape(3, 5).max(axis=1)"
   ]
  },
  {
   "cell_type": "code",
   "execution_count": 158,
   "metadata": {},
   "outputs": [
    {
     "data": {
      "text/plain": [
       "array([10, 11, 12, 13, 14])"
      ]
     },
     "execution_count": 158,
     "metadata": {},
     "output_type": "execute_result"
    }
   ],
   "source": [
    "x.reshape(3, 5).max(axis=0)"
   ]
  },
  {
   "cell_type": "code",
   "execution_count": 159,
   "metadata": {},
   "outputs": [
    {
     "data": {
      "text/html": [
       "<div>\n",
       "<style scoped>\n",
       "    .dataframe tbody tr th:only-of-type {\n",
       "        vertical-align: middle;\n",
       "    }\n",
       "\n",
       "    .dataframe tbody tr th {\n",
       "        vertical-align: top;\n",
       "    }\n",
       "\n",
       "    .dataframe thead th {\n",
       "        text-align: right;\n",
       "    }\n",
       "</style>\n",
       "<table border=\"1\" class=\"dataframe\">\n",
       "  <thead>\n",
       "    <tr style=\"text-align: right;\">\n",
       "      <th></th>\n",
       "      <th>id</th>\n",
       "      <th>first_name</th>\n",
       "      <th>last_name</th>\n",
       "      <th>email</th>\n",
       "      <th>gender</th>\n",
       "      <th>ip_address</th>\n",
       "    </tr>\n",
       "  </thead>\n",
       "  <tbody>\n",
       "    <tr>\n",
       "      <th>0</th>\n",
       "      <td>1</td>\n",
       "      <td>Walden</td>\n",
       "      <td>Kirsop</td>\n",
       "      <td>wkirsop0@buzzfeed.com</td>\n",
       "      <td>Male</td>\n",
       "      <td>84.2.121.2</td>\n",
       "    </tr>\n",
       "    <tr>\n",
       "      <th>1</th>\n",
       "      <td>2</td>\n",
       "      <td>Damaris</td>\n",
       "      <td>Chmarny</td>\n",
       "      <td>dchmarny1@weather.com</td>\n",
       "      <td>Female</td>\n",
       "      <td>200.32.224.56</td>\n",
       "    </tr>\n",
       "    <tr>\n",
       "      <th>2</th>\n",
       "      <td>3</td>\n",
       "      <td>Roderic</td>\n",
       "      <td>Rennick</td>\n",
       "      <td>rrennick2@discuz.net</td>\n",
       "      <td>Male</td>\n",
       "      <td>247.191.3.33</td>\n",
       "    </tr>\n",
       "    <tr>\n",
       "      <th>3</th>\n",
       "      <td>4</td>\n",
       "      <td>Ashlee</td>\n",
       "      <td>Tringham</td>\n",
       "      <td>atringham3@telegraph.co.uk</td>\n",
       "      <td>Female</td>\n",
       "      <td>150.119.233.121</td>\n",
       "    </tr>\n",
       "    <tr>\n",
       "      <th>4</th>\n",
       "      <td>5</td>\n",
       "      <td>Cam</td>\n",
       "      <td>Stothert</td>\n",
       "      <td>cstothert4@moonfruit.com</td>\n",
       "      <td>Non-binary</td>\n",
       "      <td>105.203.32.161</td>\n",
       "    </tr>\n",
       "    <tr>\n",
       "      <th>...</th>\n",
       "      <td>...</td>\n",
       "      <td>...</td>\n",
       "      <td>...</td>\n",
       "      <td>...</td>\n",
       "      <td>...</td>\n",
       "      <td>...</td>\n",
       "    </tr>\n",
       "    <tr>\n",
       "      <th>995</th>\n",
       "      <td>996</td>\n",
       "      <td>Lesley</td>\n",
       "      <td>Gaffney</td>\n",
       "      <td>lgaffneyrn@google.ca</td>\n",
       "      <td>Male</td>\n",
       "      <td>136.101.215.24</td>\n",
       "    </tr>\n",
       "    <tr>\n",
       "      <th>996</th>\n",
       "      <td>997</td>\n",
       "      <td>Maxim</td>\n",
       "      <td>Hutchin</td>\n",
       "      <td>mhutchinro@slashdot.org</td>\n",
       "      <td>Male</td>\n",
       "      <td>11.89.158.51</td>\n",
       "    </tr>\n",
       "    <tr>\n",
       "      <th>997</th>\n",
       "      <td>998</td>\n",
       "      <td>Leona</td>\n",
       "      <td>Viccary</td>\n",
       "      <td>lviccaryrp@dot.gov</td>\n",
       "      <td>Female</td>\n",
       "      <td>204.179.108.188</td>\n",
       "    </tr>\n",
       "    <tr>\n",
       "      <th>998</th>\n",
       "      <td>999</td>\n",
       "      <td>Beale</td>\n",
       "      <td>Skotcher</td>\n",
       "      <td>bskotcherrq@twitter.com</td>\n",
       "      <td>Male</td>\n",
       "      <td>86.168.127.111</td>\n",
       "    </tr>\n",
       "    <tr>\n",
       "      <th>999</th>\n",
       "      <td>1000</td>\n",
       "      <td>Pebrook</td>\n",
       "      <td>Eslemont</td>\n",
       "      <td>peslemontrr@hatena.ne.jp</td>\n",
       "      <td>Genderfluid</td>\n",
       "      <td>13.187.116.51</td>\n",
       "    </tr>\n",
       "  </tbody>\n",
       "</table>\n",
       "<p>1000 rows × 6 columns</p>\n",
       "</div>"
      ],
      "text/plain": [
       "       id first_name last_name                       email       gender  \\\n",
       "0       1     Walden    Kirsop       wkirsop0@buzzfeed.com         Male   \n",
       "1       2    Damaris   Chmarny       dchmarny1@weather.com       Female   \n",
       "2       3    Roderic   Rennick        rrennick2@discuz.net         Male   \n",
       "3       4     Ashlee  Tringham  atringham3@telegraph.co.uk       Female   \n",
       "4       5        Cam  Stothert    cstothert4@moonfruit.com   Non-binary   \n",
       "..    ...        ...       ...                         ...          ...   \n",
       "995   996     Lesley   Gaffney        lgaffneyrn@google.ca         Male   \n",
       "996   997      Maxim   Hutchin     mhutchinro@slashdot.org         Male   \n",
       "997   998      Leona   Viccary          lviccaryrp@dot.gov       Female   \n",
       "998   999      Beale  Skotcher     bskotcherrq@twitter.com         Male   \n",
       "999  1000    Pebrook  Eslemont    peslemontrr@hatena.ne.jp  Genderfluid   \n",
       "\n",
       "          ip_address  \n",
       "0         84.2.121.2  \n",
       "1      200.32.224.56  \n",
       "2       247.191.3.33  \n",
       "3    150.119.233.121  \n",
       "4     105.203.32.161  \n",
       "..               ...  \n",
       "995   136.101.215.24  \n",
       "996     11.89.158.51  \n",
       "997  204.179.108.188  \n",
       "998   86.168.127.111  \n",
       "999    13.187.116.51  \n",
       "\n",
       "[1000 rows x 6 columns]"
      ]
     },
     "execution_count": 159,
     "metadata": {},
     "output_type": "execute_result"
    }
   ],
   "source": [
    "import pandas as pd\n",
    "users = dao.findAll()\n",
    "\n",
    "df_users = pd.DataFrame(users)\n",
    "df_users"
   ]
  },
  {
   "cell_type": "code",
   "execution_count": 160,
   "metadata": {},
   "outputs": [
    {
     "data": {
      "text/html": [
       "<div>\n",
       "<style scoped>\n",
       "    .dataframe tbody tr th:only-of-type {\n",
       "        vertical-align: middle;\n",
       "    }\n",
       "\n",
       "    .dataframe tbody tr th {\n",
       "        vertical-align: top;\n",
       "    }\n",
       "\n",
       "    .dataframe thead th {\n",
       "        text-align: right;\n",
       "    }\n",
       "</style>\n",
       "<table border=\"1\" class=\"dataframe\">\n",
       "  <thead>\n",
       "    <tr style=\"text-align: right;\">\n",
       "      <th></th>\n",
       "      <th>id</th>\n",
       "      <th>first_name</th>\n",
       "      <th>last_name</th>\n",
       "      <th>email</th>\n",
       "      <th>gender</th>\n",
       "      <th>ip_address</th>\n",
       "    </tr>\n",
       "  </thead>\n",
       "  <tbody>\n",
       "    <tr>\n",
       "      <th>0</th>\n",
       "      <td>1</td>\n",
       "      <td>Walden</td>\n",
       "      <td>Kirsop</td>\n",
       "      <td>wkirsop0@buzzfeed.com</td>\n",
       "      <td>Male</td>\n",
       "      <td>84.2.121.2</td>\n",
       "    </tr>\n",
       "    <tr>\n",
       "      <th>1</th>\n",
       "      <td>2</td>\n",
       "      <td>Damaris</td>\n",
       "      <td>Chmarny</td>\n",
       "      <td>dchmarny1@weather.com</td>\n",
       "      <td>Female</td>\n",
       "      <td>200.32.224.56</td>\n",
       "    </tr>\n",
       "    <tr>\n",
       "      <th>2</th>\n",
       "      <td>3</td>\n",
       "      <td>Roderic</td>\n",
       "      <td>Rennick</td>\n",
       "      <td>rrennick2@discuz.net</td>\n",
       "      <td>Male</td>\n",
       "      <td>247.191.3.33</td>\n",
       "    </tr>\n",
       "    <tr>\n",
       "      <th>3</th>\n",
       "      <td>4</td>\n",
       "      <td>Ashlee</td>\n",
       "      <td>Tringham</td>\n",
       "      <td>atringham3@telegraph.co.uk</td>\n",
       "      <td>Female</td>\n",
       "      <td>150.119.233.121</td>\n",
       "    </tr>\n",
       "    <tr>\n",
       "      <th>4</th>\n",
       "      <td>5</td>\n",
       "      <td>Cam</td>\n",
       "      <td>Stothert</td>\n",
       "      <td>cstothert4@moonfruit.com</td>\n",
       "      <td>Non-binary</td>\n",
       "      <td>105.203.32.161</td>\n",
       "    </tr>\n",
       "  </tbody>\n",
       "</table>\n",
       "</div>"
      ],
      "text/plain": [
       "   id first_name last_name                       email      gender  \\\n",
       "0   1     Walden    Kirsop       wkirsop0@buzzfeed.com        Male   \n",
       "1   2    Damaris   Chmarny       dchmarny1@weather.com      Female   \n",
       "2   3    Roderic   Rennick        rrennick2@discuz.net        Male   \n",
       "3   4     Ashlee  Tringham  atringham3@telegraph.co.uk      Female   \n",
       "4   5        Cam  Stothert    cstothert4@moonfruit.com  Non-binary   \n",
       "\n",
       "        ip_address  \n",
       "0       84.2.121.2  \n",
       "1    200.32.224.56  \n",
       "2     247.191.3.33  \n",
       "3  150.119.233.121  \n",
       "4   105.203.32.161  "
      ]
     },
     "execution_count": 160,
     "metadata": {},
     "output_type": "execute_result"
    }
   ],
   "source": [
    "df_users.head()"
   ]
  },
  {
   "cell_type": "code",
   "execution_count": 161,
   "metadata": {},
   "outputs": [
    {
     "data": {
      "text/html": [
       "<div>\n",
       "<style scoped>\n",
       "    .dataframe tbody tr th:only-of-type {\n",
       "        vertical-align: middle;\n",
       "    }\n",
       "\n",
       "    .dataframe tbody tr th {\n",
       "        vertical-align: top;\n",
       "    }\n",
       "\n",
       "    .dataframe thead th {\n",
       "        text-align: right;\n",
       "    }\n",
       "</style>\n",
       "<table border=\"1\" class=\"dataframe\">\n",
       "  <thead>\n",
       "    <tr style=\"text-align: right;\">\n",
       "      <th></th>\n",
       "      <th>id</th>\n",
       "      <th>first_name</th>\n",
       "      <th>last_name</th>\n",
       "      <th>email</th>\n",
       "      <th>gender</th>\n",
       "      <th>ip_address</th>\n",
       "    </tr>\n",
       "  </thead>\n",
       "  <tbody>\n",
       "    <tr>\n",
       "      <th>995</th>\n",
       "      <td>996</td>\n",
       "      <td>Lesley</td>\n",
       "      <td>Gaffney</td>\n",
       "      <td>lgaffneyrn@google.ca</td>\n",
       "      <td>Male</td>\n",
       "      <td>136.101.215.24</td>\n",
       "    </tr>\n",
       "    <tr>\n",
       "      <th>996</th>\n",
       "      <td>997</td>\n",
       "      <td>Maxim</td>\n",
       "      <td>Hutchin</td>\n",
       "      <td>mhutchinro@slashdot.org</td>\n",
       "      <td>Male</td>\n",
       "      <td>11.89.158.51</td>\n",
       "    </tr>\n",
       "    <tr>\n",
       "      <th>997</th>\n",
       "      <td>998</td>\n",
       "      <td>Leona</td>\n",
       "      <td>Viccary</td>\n",
       "      <td>lviccaryrp@dot.gov</td>\n",
       "      <td>Female</td>\n",
       "      <td>204.179.108.188</td>\n",
       "    </tr>\n",
       "    <tr>\n",
       "      <th>998</th>\n",
       "      <td>999</td>\n",
       "      <td>Beale</td>\n",
       "      <td>Skotcher</td>\n",
       "      <td>bskotcherrq@twitter.com</td>\n",
       "      <td>Male</td>\n",
       "      <td>86.168.127.111</td>\n",
       "    </tr>\n",
       "    <tr>\n",
       "      <th>999</th>\n",
       "      <td>1000</td>\n",
       "      <td>Pebrook</td>\n",
       "      <td>Eslemont</td>\n",
       "      <td>peslemontrr@hatena.ne.jp</td>\n",
       "      <td>Genderfluid</td>\n",
       "      <td>13.187.116.51</td>\n",
       "    </tr>\n",
       "  </tbody>\n",
       "</table>\n",
       "</div>"
      ],
      "text/plain": [
       "       id first_name last_name                     email       gender  \\\n",
       "995   996     Lesley   Gaffney      lgaffneyrn@google.ca         Male   \n",
       "996   997      Maxim   Hutchin   mhutchinro@slashdot.org         Male   \n",
       "997   998      Leona   Viccary        lviccaryrp@dot.gov       Female   \n",
       "998   999      Beale  Skotcher   bskotcherrq@twitter.com         Male   \n",
       "999  1000    Pebrook  Eslemont  peslemontrr@hatena.ne.jp  Genderfluid   \n",
       "\n",
       "          ip_address  \n",
       "995   136.101.215.24  \n",
       "996     11.89.158.51  \n",
       "997  204.179.108.188  \n",
       "998   86.168.127.111  \n",
       "999    13.187.116.51  "
      ]
     },
     "execution_count": 161,
     "metadata": {},
     "output_type": "execute_result"
    }
   ],
   "source": [
    "df_users.tail()"
   ]
  },
  {
   "cell_type": "code",
   "execution_count": 162,
   "metadata": {},
   "outputs": [
    {
     "data": {
      "text/html": [
       "<div>\n",
       "<style scoped>\n",
       "    .dataframe tbody tr th:only-of-type {\n",
       "        vertical-align: middle;\n",
       "    }\n",
       "\n",
       "    .dataframe tbody tr th {\n",
       "        vertical-align: top;\n",
       "    }\n",
       "\n",
       "    .dataframe thead th {\n",
       "        text-align: right;\n",
       "    }\n",
       "</style>\n",
       "<table border=\"1\" class=\"dataframe\">\n",
       "  <thead>\n",
       "    <tr style=\"text-align: right;\">\n",
       "      <th></th>\n",
       "      <th>id</th>\n",
       "    </tr>\n",
       "  </thead>\n",
       "  <tbody>\n",
       "    <tr>\n",
       "      <th>count</th>\n",
       "      <td>1000.000000</td>\n",
       "    </tr>\n",
       "    <tr>\n",
       "      <th>mean</th>\n",
       "      <td>500.500000</td>\n",
       "    </tr>\n",
       "    <tr>\n",
       "      <th>std</th>\n",
       "      <td>288.819436</td>\n",
       "    </tr>\n",
       "    <tr>\n",
       "      <th>min</th>\n",
       "      <td>1.000000</td>\n",
       "    </tr>\n",
       "    <tr>\n",
       "      <th>25%</th>\n",
       "      <td>250.750000</td>\n",
       "    </tr>\n",
       "    <tr>\n",
       "      <th>50%</th>\n",
       "      <td>500.500000</td>\n",
       "    </tr>\n",
       "    <tr>\n",
       "      <th>75%</th>\n",
       "      <td>750.250000</td>\n",
       "    </tr>\n",
       "    <tr>\n",
       "      <th>max</th>\n",
       "      <td>1000.000000</td>\n",
       "    </tr>\n",
       "  </tbody>\n",
       "</table>\n",
       "</div>"
      ],
      "text/plain": [
       "                id\n",
       "count  1000.000000\n",
       "mean    500.500000\n",
       "std     288.819436\n",
       "min       1.000000\n",
       "25%     250.750000\n",
       "50%     500.500000\n",
       "75%     750.250000\n",
       "max    1000.000000"
      ]
     },
     "execution_count": 162,
     "metadata": {},
     "output_type": "execute_result"
    }
   ],
   "source": [
    "# df_users.info()\n",
    "df_users.describe()"
   ]
  },
  {
   "cell_type": "code",
   "execution_count": 163,
   "metadata": {},
   "outputs": [
    {
     "data": {
      "text/plain": [
       "0       Walden\n",
       "1      Damaris\n",
       "2      Roderic\n",
       "3       Ashlee\n",
       "4          Cam\n",
       "        ...   \n",
       "995     Lesley\n",
       "996      Maxim\n",
       "997      Leona\n",
       "998      Beale\n",
       "999    Pebrook\n",
       "Name: first_name, Length: 1000, dtype: object"
      ]
     },
     "execution_count": 163,
     "metadata": {},
     "output_type": "execute_result"
    }
   ],
   "source": [
    "df_users.columns\n",
    "df_users['first_name']"
   ]
  },
  {
   "cell_type": "code",
   "execution_count": 164,
   "metadata": {},
   "outputs": [
    {
     "data": {
      "text/plain": [
       "id                             996\n",
       "first_name                  Lesley\n",
       "last_name                  Gaffney\n",
       "email         lgaffneyrn@google.ca\n",
       "gender                        Male\n",
       "ip_address          136.101.215.24\n",
       "Name: 995, dtype: object"
      ]
     },
     "execution_count": 164,
     "metadata": {},
     "output_type": "execute_result"
    }
   ],
   "source": [
    "df_users.loc[995]"
   ]
  },
  {
   "cell_type": "code",
   "execution_count": 165,
   "metadata": {},
   "outputs": [
    {
     "data": {
      "text/html": [
       "<div>\n",
       "<style scoped>\n",
       "    .dataframe tbody tr th:only-of-type {\n",
       "        vertical-align: middle;\n",
       "    }\n",
       "\n",
       "    .dataframe tbody tr th {\n",
       "        vertical-align: top;\n",
       "    }\n",
       "\n",
       "    .dataframe thead th {\n",
       "        text-align: right;\n",
       "    }\n",
       "</style>\n",
       "<table border=\"1\" class=\"dataframe\">\n",
       "  <thead>\n",
       "    <tr style=\"text-align: right;\">\n",
       "      <th></th>\n",
       "      <th>id</th>\n",
       "      <th>first_name</th>\n",
       "      <th>last_name</th>\n",
       "      <th>email</th>\n",
       "      <th>gender</th>\n",
       "      <th>ip_address</th>\n",
       "    </tr>\n",
       "  </thead>\n",
       "  <tbody>\n",
       "    <tr>\n",
       "      <th>0</th>\n",
       "      <td>1</td>\n",
       "      <td>Walden</td>\n",
       "      <td>Kirsop</td>\n",
       "      <td>wkirsop0@buzzfeed.com</td>\n",
       "      <td>Male</td>\n",
       "      <td>84.2.121.2</td>\n",
       "    </tr>\n",
       "    <tr>\n",
       "      <th>6</th>\n",
       "      <td>7</td>\n",
       "      <td>Leroi</td>\n",
       "      <td>Bodega</td>\n",
       "      <td>lbodega6@hexun.com</td>\n",
       "      <td>Male</td>\n",
       "      <td>59.250.25.59</td>\n",
       "    </tr>\n",
       "    <tr>\n",
       "      <th>12</th>\n",
       "      <td>13</td>\n",
       "      <td>Maximilian</td>\n",
       "      <td>Serraillier</td>\n",
       "      <td>mserraillierc@delicious.com</td>\n",
       "      <td>Male</td>\n",
       "      <td>21.38.1.123</td>\n",
       "    </tr>\n",
       "    <tr>\n",
       "      <th>13</th>\n",
       "      <td>14</td>\n",
       "      <td>Tremaine</td>\n",
       "      <td>Farguhar</td>\n",
       "      <td>tfarguhard@hc360.com</td>\n",
       "      <td>Male</td>\n",
       "      <td>237.33.32.181</td>\n",
       "    </tr>\n",
       "    <tr>\n",
       "      <th>15</th>\n",
       "      <td>16</td>\n",
       "      <td>Ezequiel</td>\n",
       "      <td>Tommeo</td>\n",
       "      <td>etommeof@walmart.com</td>\n",
       "      <td>Male</td>\n",
       "      <td>214.15.80.122</td>\n",
       "    </tr>\n",
       "    <tr>\n",
       "      <th>...</th>\n",
       "      <td>...</td>\n",
       "      <td>...</td>\n",
       "      <td>...</td>\n",
       "      <td>...</td>\n",
       "      <td>...</td>\n",
       "      <td>...</td>\n",
       "    </tr>\n",
       "    <tr>\n",
       "      <th>982</th>\n",
       "      <td>983</td>\n",
       "      <td>Rudolf</td>\n",
       "      <td>Leefe</td>\n",
       "      <td>rleefera@ask.com</td>\n",
       "      <td>Male</td>\n",
       "      <td>140.212.247.64</td>\n",
       "    </tr>\n",
       "    <tr>\n",
       "      <th>983</th>\n",
       "      <td>984</td>\n",
       "      <td>Hillary</td>\n",
       "      <td>Girardin</td>\n",
       "      <td>hgirardinrb@mac.com</td>\n",
       "      <td>Male</td>\n",
       "      <td>54.122.182.146</td>\n",
       "    </tr>\n",
       "    <tr>\n",
       "      <th>984</th>\n",
       "      <td>985</td>\n",
       "      <td>Lenard</td>\n",
       "      <td>Derrington</td>\n",
       "      <td>lderringtonrc@marketwatch.com</td>\n",
       "      <td>Male</td>\n",
       "      <td>198.33.117.48</td>\n",
       "    </tr>\n",
       "    <tr>\n",
       "      <th>990</th>\n",
       "      <td>991</td>\n",
       "      <td>Gualterio</td>\n",
       "      <td>MacManus</td>\n",
       "      <td>gmacmanusri@angelfire.com</td>\n",
       "      <td>Male</td>\n",
       "      <td>56.105.118.205</td>\n",
       "    </tr>\n",
       "    <tr>\n",
       "      <th>998</th>\n",
       "      <td>999</td>\n",
       "      <td>Beale</td>\n",
       "      <td>Skotcher</td>\n",
       "      <td>bskotcherrq@twitter.com</td>\n",
       "      <td>Male</td>\n",
       "      <td>86.168.127.111</td>\n",
       "    </tr>\n",
       "  </tbody>\n",
       "</table>\n",
       "<p>279 rows × 6 columns</p>\n",
       "</div>"
      ],
      "text/plain": [
       "      id  first_name    last_name                          email gender  \\\n",
       "0      1      Walden       Kirsop          wkirsop0@buzzfeed.com   Male   \n",
       "6      7       Leroi       Bodega             lbodega6@hexun.com   Male   \n",
       "12    13  Maximilian  Serraillier    mserraillierc@delicious.com   Male   \n",
       "13    14    Tremaine     Farguhar           tfarguhard@hc360.com   Male   \n",
       "15    16    Ezequiel       Tommeo           etommeof@walmart.com   Male   \n",
       "..   ...         ...          ...                            ...    ...   \n",
       "982  983      Rudolf        Leefe               rleefera@ask.com   Male   \n",
       "983  984     Hillary     Girardin            hgirardinrb@mac.com   Male   \n",
       "984  985      Lenard   Derrington  lderringtonrc@marketwatch.com   Male   \n",
       "990  991   Gualterio     MacManus      gmacmanusri@angelfire.com   Male   \n",
       "998  999       Beale     Skotcher        bskotcherrq@twitter.com   Male   \n",
       "\n",
       "         ip_address  \n",
       "0        84.2.121.2  \n",
       "6      59.250.25.59  \n",
       "12      21.38.1.123  \n",
       "13    237.33.32.181  \n",
       "15    214.15.80.122  \n",
       "..              ...  \n",
       "982  140.212.247.64  \n",
       "983  54.122.182.146  \n",
       "984   198.33.117.48  \n",
       "990  56.105.118.205  \n",
       "998  86.168.127.111  \n",
       "\n",
       "[279 rows x 6 columns]"
      ]
     },
     "execution_count": 165,
     "metadata": {},
     "output_type": "execute_result"
    }
   ],
   "source": [
    "# df_users[df_users['gender']==\"Male\"]\n",
    "df_users[(df_users['gender']==\"Male\") & (df_users['email'].str.contains('.com'))]"
   ]
  },
  {
   "cell_type": "code",
   "execution_count": null,
   "metadata": {},
   "outputs": [],
   "source": [
    "# df_users['upper_last_name'] = df_users['last_name'].map(lambda d:d.upper())\n",
    "df_users['upper_last_name'] = df_users['last_name'].str.upper()\n"
   ]
  }
 ],
 "metadata": {
  "kernelspec": {
   "display_name": ".venv",
   "language": "python",
   "name": "python3"
  },
  "language_info": {
   "codemirror_mode": {
    "name": "ipython",
    "version": 3
   },
   "file_extension": ".py",
   "mimetype": "text/x-python",
   "name": "python",
   "nbconvert_exporter": "python",
   "pygments_lexer": "ipython3",
   "version": "3.11.6"
  }
 },
 "nbformat": 4,
 "nbformat_minor": 2
}
